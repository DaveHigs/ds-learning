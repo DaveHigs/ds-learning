{
 "cells": [
  {
   "attachments": {},
   "cell_type": "markdown",
   "metadata": {},
   "source": [
    "<hr style=\"margin-bottom: 40px;\">\n",
    "\n",
    "<img src=\"https://user-images.githubusercontent.com/7065401/68501079-0695df00-023c-11ea-841f-455dac84a089.jpg\"\n",
    "    style=\"width:400px; float: right; margin: 0 40px 40px 40px;\"></img>\n",
    "\n",
    "# Reading CSV and TXT files\n",
    "\n",
    "Rather than creating `Series` or `DataFrames` strutures from scratch, or even from Python core sequences or `ndarrays`, the most typical use of **pandas** is based on the loading of information from files or sources of information for further exploration, transformation and analysis.\n",
    "\n",
    "In this lecture we'll learn how to read comma-separated values files (.csv) and raw text files (.txt) into pandas `DataFrame`s."
   ]
  },
  {
   "attachments": {},
   "cell_type": "markdown",
   "metadata": {},
   "source": [
    "<hr style=\"border:4px solid gray\"> </hr>"
   ]
  },
  {
   "attachments": {},
   "cell_type": "markdown",
   "metadata": {},
   "source": [
    "## Hands on!"
   ]
  },
  {
   "cell_type": "code",
   "execution_count": 14,
   "metadata": {},
   "outputs": [],
   "source": [
    "import pandas as pd"
   ]
  },
  {
   "attachments": {},
   "cell_type": "markdown",
   "metadata": {},
   "source": [
    "<hr style=\"border:4px solid gray\"> </hr>"
   ]
  },
  {
   "attachments": {},
   "cell_type": "markdown",
   "metadata": {},
   "source": [
    "## Reading data with Python"
   ]
  },
  {
   "attachments": {},
   "cell_type": "markdown",
   "metadata": {},
   "source": [
    "We can read data simply using Python.\n",
    "\n",
    "When you want to work with a file, the first thing to do is to open it. This is done by invoking `open()` built-in function.\n",
    "\n",
    "`open()` has a single requiered argument that is the path to the file and has a single return, the file object.\n",
    "\n",
    "The `with` statement automatically takes care of closing the file it leaves the `with` block, even in cases of error."
   ]
  },
  {
   "cell_type": "code",
   "execution_count": 15,
   "metadata": {},
   "outputs": [
    {
     "name": "stdout",
     "output_type": "stream",
     "text": [
      "<_io.TextIOWrapper name='./data/btc-market-price.csv' mode='r' encoding='UTF-8'>\n"
     ]
    }
   ],
   "source": [
    "with open('./data/btc-market-price.csv', 'r') as fp:\n",
    "    print(fp)"
   ]
  },
  {
   "attachments": {},
   "cell_type": "markdown",
   "metadata": {},
   "source": [
    "Once the file is opened, we can read its content as follows:"
   ]
  },
  {
   "cell_type": "code",
   "execution_count": 16,
   "metadata": {},
   "outputs": [
    {
     "name": "stdout",
     "output_type": "stream",
     "text": [
      "0 2017-04-02 00:00:00,1099.169125\n",
      "\n",
      "1 2017-04-03 00:00:00,1141.813\n",
      "\n",
      "2 2017-04-04 00:00:00,1141.6003625\n",
      "\n",
      "3 2017-04-05 00:00:00,1133.0793142857142\n",
      "\n",
      "4 2017-04-06 00:00:00,1196.3079375\n",
      "\n",
      "5 2017-04-07 00:00:00,1190.45425\n",
      "\n",
      "6 2017-04-08 00:00:00,1181.1498375\n",
      "\n",
      "7 2017-04-09 00:00:00,1208.8005\n",
      "\n",
      "8 2017-04-10 00:00:00,1207.744875\n",
      "\n",
      "9 2017-04-11 00:00:00,1226.6170375\n",
      "\n"
     ]
    }
   ],
   "source": [
    "with open('./data/btc-market-price.csv', 'r') as fp:\n",
    "    for index, line in enumerate(fp.readlines()):\n",
    "        # read just the first 10 lines\n",
    "        if (index < 10):\n",
    "            print(index, line)"
   ]
  },
  {
   "attachments": {},
   "cell_type": "markdown",
   "metadata": {},
   "source": [
    "How can we process the data read from the file using pure Python? It involves a lot of manual work, for example, splitting the values by the correct separator:"
   ]
  },
  {
   "cell_type": "code",
   "execution_count": 17,
   "metadata": {},
   "outputs": [
    {
     "name": "stdout",
     "output_type": "stream",
     "text": [
      "2017-04-02 00:00:00: $1099.169125\n",
      "\n",
      "2017-04-03 00:00:00: $1141.813\n",
      "\n",
      "2017-04-04 00:00:00: $1141.6003625\n",
      "\n",
      "2017-04-05 00:00:00: $1133.0793142857142\n",
      "\n",
      "2017-04-06 00:00:00: $1196.3079375\n",
      "\n",
      "2017-04-07 00:00:00: $1190.45425\n",
      "\n",
      "2017-04-08 00:00:00: $1181.1498375\n",
      "\n",
      "2017-04-09 00:00:00: $1208.8005\n",
      "\n",
      "2017-04-10 00:00:00: $1207.744875\n",
      "\n",
      "2017-04-11 00:00:00: $1226.6170375\n",
      "\n"
     ]
    }
   ],
   "source": [
    "with open('./data/btc-market-price.csv', 'r') as fp:\n",
    "    for index, line in enumerate(fp.readlines()):\n",
    "        # read just the first 10 lines\n",
    "        if (index < 10):\n",
    "            timestamp, price = line.split(',')\n",
    "            print(f'{timestamp}: ${price}')"
   ]
  },
  {
   "attachments": {},
   "cell_type": "markdown",
   "metadata": {},
   "source": [
    "But what happens if the separator is unknown, like in the file `exam_review.csv`:"
   ]
  },
  {
   "cell_type": "code",
   "execution_count": 19,
   "metadata": {},
   "outputs": [
    {
     "name": "stdout",
     "output_type": "stream",
     "text": [
      "first_name>last_name>age>math_score>french_score\n",
      "Ray>Morley>18>\"68,000\">\"75,000\"\n",
      "Melvin>Scott>24>77>83\n",
      "Amirah>Haley>22>92>67\n",
      "\n",
      "Gerard>Mills>19>\"78,000\">72\n",
      "Amy>Grimes>23>91>81\n"
     ]
    }
   ],
   "source": [
    "!head ./data/exam_review.csv"
   ]
  },
  {
   "attachments": {},
   "cell_type": "markdown",
   "metadata": {},
   "source": [
    "In this case, the separator is not a comma, but the `>` sign. It's still a \"CSV\", although not technically separated by commas."
   ]
  },
  {
   "attachments": {},
   "cell_type": "markdown",
   "metadata": {},
   "source": [
    "### The `csv` module\n",
    "\n",
    "Python includes the builtin module `csv` that helps a little bit more with the process of reading `CSV`s:"
   ]
  },
  {
   "cell_type": "code",
   "execution_count": 20,
   "metadata": {},
   "outputs": [],
   "source": [
    "import csv"
   ]
  },
  {
   "cell_type": "code",
   "execution_count": 21,
   "metadata": {},
   "outputs": [
    {
     "name": "stdout",
     "output_type": "stream",
     "text": [
      "2017-04-02 00:00:00: 1099.169125\n",
      "2017-04-03 00:00:00: 1141.813\n",
      "2017-04-04 00:00:00: 1141.6003625\n",
      "2017-04-05 00:00:00: 1133.0793142857142\n",
      "2017-04-06 00:00:00: 1196.3079375\n",
      "2017-04-07 00:00:00: 1190.45425\n",
      "2017-04-08 00:00:00: 1181.1498375\n",
      "2017-04-09 00:00:00: 1208.8005\n",
      "2017-04-10 00:00:00: 1207.744875\n",
      "2017-04-11 00:00:00: 1226.6170375\n"
     ]
    }
   ],
   "source": [
    "with open('./data/btc-market-price.csv', 'r') as fp:\n",
    "    reader = csv.reader(fp)\n",
    "    for index, (timestamp, price) in enumerate(reader):\n",
    "        # read just the first 10 lines\n",
    "        if index < 10:\n",
    "            print(f'{timestamp}: {price}')"
   ]
  },
  {
   "attachments": {},
   "cell_type": "markdown",
   "metadata": {},
   "source": [
    "The `csv` module takes care of splitting the file using a given separator (called `delimiter`) and creating an interator for us."
   ]
  },
  {
   "cell_type": "code",
   "execution_count": 32,
   "metadata": {},
   "outputs": [
    {
     "name": "stdout",
     "output_type": "stream",
     "text": [
      "Ray Morley (age 18) got 68,000 in Math and 75,000 in French\n",
      "Melvin Scott (age 24) got 77 in Math and 83 in French\n",
      "Amirah Haley (age 22) got 92 in Math and 67 in French\n",
      "Gerard Mills (age 19) got 78,000 in Math and 72 in French\n",
      "Amy Grimes (age 23) got 91 in Math and 81 in French\n"
     ]
    }
   ],
   "source": [
    "with open('./data/exam_review.csv', 'r') as fp:\n",
    "    reader = csv.reader(fp, delimiter='>') # special delimiter\n",
    "    next(reader) # skipping header\n",
    "    for index, values in enumerate(reader):\n",
    "        if not values:\n",
    "            continue # skip empty lines\n",
    "        fname, lname, age, math, french = values\n",
    "        print(f'{fname} {lname} (age {age}) got {math} in Math and {french} in French')"
   ]
  },
  {
   "attachments": {},
   "cell_type": "markdown",
   "metadata": {},
   "source": [
    "<hr style='border:5px solid #5C6067'> </hr>"
   ]
  },
  {
   "cell_type": "code",
   "execution_count": null,
   "metadata": {},
   "outputs": [],
   "source": []
  }
 ],
 "metadata": {
  "kernelspec": {
   "display_name": ".venv",
   "language": "python",
   "name": "python3"
  },
  "language_info": {
   "codemirror_mode": {
    "name": "ipython",
    "version": 3
   },
   "file_extension": ".py",
   "mimetype": "text/x-python",
   "name": "python",
   "nbconvert_exporter": "python",
   "pygments_lexer": "ipython3",
   "version": "3.11.0"
  },
  "orig_nbformat": 4,
  "vscode": {
   "interpreter": {
    "hash": "342480ef29bd38e5a341af26223807dceec7a2cf8bf5523f3693d4fe0eef3bb6"
   }
  }
 },
 "nbformat": 4,
 "nbformat_minor": 2
}
