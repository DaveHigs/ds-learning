{
 "cells": [
  {
   "cell_type": "markdown",
   "id": "5f4fb79f-56c2-491c-a85d-94c606825fb2",
   "metadata": {},
   "source": [
    "<hr style=\"margin-bottom: 40px;\">\n",
    "\n",
    "<img src=\"https://user-images.githubusercontent.com/7065401/39117599-a2ca6a88-46e7-11e8-9eb1-e3321aec3f49.png\"\n",
    "    style=\"width:300px; float: right; margin: 0 40px 40px 40px;\"></img>\n",
    "\n",
    "# More Visualizations\n",
    "\n",
    "Previously, we saw an overview of how pandas `plot` method worked and how to use the basic API of matplotlib. We'll provide more details in this lesson."
   ]
  },
  {
   "cell_type": "markdown",
   "id": "62581180-1334-4d15-bdbe-9f70ee6dbf53",
   "metadata": {},
   "source": [
    "<hr style='border: 3px solid SlateGray'></hr>"
   ]
  },
  {
   "cell_type": "code",
   "execution_count": 2,
   "id": "a7870d1c-18de-4cd3-b9c9-52624d0487d1",
   "metadata": {},
   "outputs": [],
   "source": [
    "import numpy as np\n",
    "import pandas as pd\n",
    "import matplotlib.pyplot as plt\n",
    "\n",
    "%matplotlib inline"
   ]
  },
  {
   "cell_type": "markdown",
   "id": "5062f7d1-9fb8-4dce-9057-4bc90223028e",
   "metadata": {},
   "source": [
    "### Global API\n",
    "\n",
    "Matplotlib's default pyplot API has a global, MATLAB-style interface, as we've already seen:"
   ]
  },
  {
   "cell_type": "code",
   "execution_count": null,
   "id": "86d72cb6-d1c1-4b60-98b7-109d8fe10045",
   "metadata": {},
   "outputs": [],
   "source": []
  }
 ],
 "metadata": {
  "kernelspec": {
   "display_name": "Python 3 (ipykernel)",
   "language": "python",
   "name": "python3"
  },
  "language_info": {
   "codemirror_mode": {
    "name": "ipython",
    "version": 3
   },
   "file_extension": ".py",
   "mimetype": "text/x-python",
   "name": "python",
   "nbconvert_exporter": "python",
   "pygments_lexer": "ipython3",
   "version": "3.10.5"
  }
 },
 "nbformat": 4,
 "nbformat_minor": 5
}
