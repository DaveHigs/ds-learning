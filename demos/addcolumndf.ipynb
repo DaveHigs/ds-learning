{
 "cells": [
  {
   "cell_type": "code",
   "execution_count": 1,
   "id": "27077bbe-71bd-47f2-a2d2-8f44e6d36cfe",
   "metadata": {},
   "outputs": [],
   "source": [
    "import pandas as pd"
   ]
  },
  {
   "cell_type": "code",
   "execution_count": 2,
   "id": "6d8954de-3f6a-4c60-b182-dab333427642",
   "metadata": {},
   "outputs": [],
   "source": [
    "data = {'Name':['Jack', 'Maria', 'Alan', 'Casey'],\n",
    "        'Salary':[2400, 3000, 2000, 1700],\n",
    "        'Rent_Cost':[900, 850, 550, 650]\n",
    "       }"
   ]
  },
  {
   "cell_type": "code",
   "execution_count": 3,
   "id": "415e324e-3b0e-4dbc-95fb-557b58037516",
   "metadata": {},
   "outputs": [
    {
     "data": {
      "text/html": [
       "<div>\n",
       "<style scoped>\n",
       "    .dataframe tbody tr th:only-of-type {\n",
       "        vertical-align: middle;\n",
       "    }\n",
       "\n",
       "    .dataframe tbody tr th {\n",
       "        vertical-align: top;\n",
       "    }\n",
       "\n",
       "    .dataframe thead th {\n",
       "        text-align: right;\n",
       "    }\n",
       "</style>\n",
       "<table border=\"1\" class=\"dataframe\">\n",
       "  <thead>\n",
       "    <tr style=\"text-align: right;\">\n",
       "      <th></th>\n",
       "      <th>Name</th>\n",
       "      <th>Salary</th>\n",
       "      <th>Rent_Cost</th>\n",
       "    </tr>\n",
       "  </thead>\n",
       "  <tbody>\n",
       "    <tr>\n",
       "      <th>0</th>\n",
       "      <td>Jack</td>\n",
       "      <td>2400</td>\n",
       "      <td>900</td>\n",
       "    </tr>\n",
       "    <tr>\n",
       "      <th>1</th>\n",
       "      <td>Maria</td>\n",
       "      <td>3000</td>\n",
       "      <td>850</td>\n",
       "    </tr>\n",
       "    <tr>\n",
       "      <th>2</th>\n",
       "      <td>Alan</td>\n",
       "      <td>2000</td>\n",
       "      <td>550</td>\n",
       "    </tr>\n",
       "    <tr>\n",
       "      <th>3</th>\n",
       "      <td>Casey</td>\n",
       "      <td>1700</td>\n",
       "      <td>650</td>\n",
       "    </tr>\n",
       "  </tbody>\n",
       "</table>\n",
       "</div>"
      ],
      "text/plain": [
       "    Name  Salary  Rent_Cost\n",
       "0   Jack    2400        900\n",
       "1  Maria    3000        850\n",
       "2   Alan    2000        550\n",
       "3  Casey    1700        650"
      ]
     },
     "execution_count": 3,
     "metadata": {},
     "output_type": "execute_result"
    }
   ],
   "source": [
    "df = pd.DataFrame(data)\n",
    "df"
   ]
  },
  {
   "cell_type": "code",
   "execution_count": 4,
   "id": "78d56563-fac2-4a94-944c-e90a15561ad5",
   "metadata": {},
   "outputs": [
    {
     "data": {
      "text/html": [
       "<div>\n",
       "<style scoped>\n",
       "    .dataframe tbody tr th:only-of-type {\n",
       "        vertical-align: middle;\n",
       "    }\n",
       "\n",
       "    .dataframe tbody tr th {\n",
       "        vertical-align: top;\n",
       "    }\n",
       "\n",
       "    .dataframe thead th {\n",
       "        text-align: right;\n",
       "    }\n",
       "</style>\n",
       "<table border=\"1\" class=\"dataframe\">\n",
       "  <thead>\n",
       "    <tr style=\"text-align: right;\">\n",
       "      <th></th>\n",
       "      <th>Name</th>\n",
       "      <th>Salary</th>\n",
       "      <th>Rent_Cost</th>\n",
       "      <th>Salary_%_Spent</th>\n",
       "    </tr>\n",
       "  </thead>\n",
       "  <tbody>\n",
       "    <tr>\n",
       "      <th>0</th>\n",
       "      <td>Jack</td>\n",
       "      <td>2400</td>\n",
       "      <td>900</td>\n",
       "      <td>37.50</td>\n",
       "    </tr>\n",
       "    <tr>\n",
       "      <th>1</th>\n",
       "      <td>Maria</td>\n",
       "      <td>3000</td>\n",
       "      <td>850</td>\n",
       "      <td>28.33</td>\n",
       "    </tr>\n",
       "    <tr>\n",
       "      <th>2</th>\n",
       "      <td>Alan</td>\n",
       "      <td>2000</td>\n",
       "      <td>550</td>\n",
       "      <td>27.50</td>\n",
       "    </tr>\n",
       "    <tr>\n",
       "      <th>3</th>\n",
       "      <td>Casey</td>\n",
       "      <td>1700</td>\n",
       "      <td>650</td>\n",
       "      <td>38.24</td>\n",
       "    </tr>\n",
       "  </tbody>\n",
       "</table>\n",
       "</div>"
      ],
      "text/plain": [
       "    Name  Salary  Rent_Cost  Salary_%_Spent\n",
       "0   Jack    2400        900           37.50\n",
       "1  Maria    3000        850           28.33\n",
       "2   Alan    2000        550           27.50\n",
       "3  Casey    1700        650           38.24"
      ]
     },
     "execution_count": 4,
     "metadata": {},
     "output_type": "execute_result"
    }
   ],
   "source": [
    "df['Salary_%_Spent'] = round((df['Rent_Cost']/df['Salary']*100), 2)\n",
    "df"
   ]
  },
  {
   "cell_type": "code",
   "execution_count": 5,
   "id": "ad907dfe-b13a-453f-a6d6-02ef776a07de",
   "metadata": {},
   "outputs": [
    {
     "name": "stdout",
     "output_type": "stream",
     "text": [
      "[0    37.50\n",
      "1    28.33\n",
      "2    27.50\n",
      "3    38.24\n",
      "dtype: float64]\n"
     ]
    }
   ],
   "source": [
    "percentageSpent = []\n",
    "percentageSpent.append(round((df['Rent_Cost']/df['Salary']*100), 2))\n",
    "\n",
    "print(percentageSpent)"
   ]
  },
  {
   "cell_type": "code",
   "execution_count": 6,
   "id": "69d2ebfe-5300-456e-80f1-b85a94251d99",
   "metadata": {},
   "outputs": [
    {
     "data": {
      "text/plain": [
       "0    37.50\n",
       "1    28.33\n",
       "2    27.50\n",
       "3    38.24\n",
       "Name: Salary_%_Spent, dtype: float64"
      ]
     },
     "execution_count": 6,
     "metadata": {},
     "output_type": "execute_result"
    }
   ],
   "source": [
    "percentage = df['Salary_%_Spent']\n",
    "percentage"
   ]
  },
  {
   "cell_type": "code",
   "execution_count": 7,
   "id": "eb405989-62ff-4f62-a3e6-82871f9c2a5c",
   "metadata": {},
   "outputs": [],
   "source": [
    "a = df['Salary_%_Spent'][df['Name']=='Casey']"
   ]
  },
  {
   "cell_type": "code",
   "execution_count": 8,
   "id": "eadd5ddb-34aa-4c30-83bb-39a86cc0bd5a",
   "metadata": {},
   "outputs": [
    {
     "data": {
      "text/plain": [
       "3    38.24\n",
       "Name: Salary_%_Spent, dtype: float64"
      ]
     },
     "execution_count": 8,
     "metadata": {},
     "output_type": "execute_result"
    }
   ],
   "source": [
    "a"
   ]
  },
  {
   "cell_type": "code",
   "execution_count": 9,
   "id": "3514c630-06cf-442d-b3a5-a60c8200884a",
   "metadata": {},
   "outputs": [
    {
     "data": {
      "text/plain": [
       "0    37.50\n",
       "1    28.33\n",
       "2    27.50\n",
       "3    38.24\n",
       "dtype: float64"
      ]
     },
     "execution_count": 9,
     "metadata": {},
     "output_type": "execute_result"
    }
   ],
   "source": [
    "asd = round((df['Rent_Cost']/df['Salary']*100), 2)\n",
    "asd"
   ]
  },
  {
   "cell_type": "code",
   "execution_count": 10,
   "id": "05aaba8c-55e9-4b71-93b0-d09e77567b06",
   "metadata": {},
   "outputs": [
    {
     "data": {
      "text/plain": [
       "<AxesSubplot:xlabel='Name'>"
      ]
     },
     "execution_count": 10,
     "metadata": {},
     "output_type": "execute_result"
    },
    {
     "data": {
      "image/png": "[encoded data removed]",
      "text/plain": [
       "<Figure size 432x288 with 1 Axes>"
      ]
     },
     "metadata": {
      "needs_background": "light"
     },
     "output_type": "display_data"
    }
   ],
   "source": [
    "df.plot(kind='line', x='Name', y='Salary')"
   ]
  },
  {
   "cell_type": "code",
   "execution_count": 13,
   "id": "1022fe12-9c50-4878-86a6-26194d4f3234",
   "metadata": {},
   "outputs": [
    {
     "data": {
      "text/plain": [
       "<AxesSubplot:xlabel='Name'>"
      ]
     },
     "execution_count": 13,
     "metadata": {},
     "output_type": "execute_result"
    },
    {
     "data": {
      "image/png": "[encoded data removed]",
      "text/plain": [
       "<Figure size 432x288 with 1 Axes>"
      ]
     },
     "metadata": {
      "needs_background": "light"
     },
     "output_type": "display_data"
    }
   ],
   "source": [
    "df.plot(kind='bar', x='Name', y='Salary')"
   ]
  },
  {
   "cell_type": "code",
   "execution_count": null,
   "id": "4e62328e-5e27-4c08-b365-c1cefc987eec",
   "metadata": {},
   "outputs": [],
   "source": []
  }
 ],
 "metadata": {
  "kernelspec": {
   "display_name": "Python 3 (ipykernel)",
   "language": "python",
   "name": "python3"
  },
  "language_info": {
   "codemirror_mode": {
    "name": "ipython",
    "version": 3
   },
   "file_extension": ".py",
   "mimetype": "text/x-python",
   "name": "python",
   "nbconvert_exporter": "python",
   "pygments_lexer": "ipython3",
   "version": "3.10.1"
  }
 },
 "nbformat": 4,
 "nbformat_minor": 5
}
